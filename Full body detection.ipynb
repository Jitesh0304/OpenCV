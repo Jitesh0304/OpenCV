{
 "cells": [
  {
   "cell_type": "markdown",
   "id": "e2426e48",
   "metadata": {},
   "source": [
    "# Pedestrian Detection ( Full Body Detection )"
   ]
  },
  {
   "cell_type": "code",
   "execution_count": 1,
   "id": "71ecce3c",
   "metadata": {},
   "outputs": [],
   "source": [
    "import cv2\n",
    "import numpy as np"
   ]
  },
  {
   "cell_type": "code",
   "execution_count": 2,
   "id": "12590604",
   "metadata": {},
   "outputs": [],
   "source": [
    "full_body = cv2.CascadeClassifier('haarcascade_fullbody.xml')"
   ]
  },
  {
   "cell_type": "code",
   "execution_count": 5,
   "id": "9a82217d",
   "metadata": {},
   "outputs": [],
   "source": [
    "capture = cv2.VideoCapture(\"walk3.mp4\")\n",
    "\n",
    "while capture.isOpened():\n",
    "    \n",
    "    ret, frame = capture.read()\n",
    "    \n",
    "    gray = cv2.cvtColor(frame , cv2.COLOR_BGR2GRAY)\n",
    "    \n",
    "    bodies= full_body.detectMultiScale(gray, 1.2, 3)\n",
    "    \n",
    "    for (x,y,w,h) in bodies:\n",
    "        cv2.rectangle(frame, (x ,y), (x+w , y+h), (0,255,255), 2)\n",
    "        cv2.imshow('Pedestrain', frame)\n",
    "        \n",
    "        \n",
    "    if cv2.waitKey(1) == 13:\n",
    "        break\n",
    "        \n",
    "capture.release()\n",
    "cv2.destroyAllWindows()"
   ]
  },
  {
   "cell_type": "code",
   "execution_count": null,
   "id": "fea062e4",
   "metadata": {},
   "outputs": [],
   "source": []
  }
 ],
 "metadata": {
  "kernelspec": {
   "display_name": "Python 3 (ipykernel)",
   "language": "python",
   "name": "python3"
  },
  "language_info": {
   "codemirror_mode": {
    "name": "ipython",
    "version": 3
   },
   "file_extension": ".py",
   "mimetype": "text/x-python",
   "name": "python",
   "nbconvert_exporter": "python",
   "pygments_lexer": "ipython3",
   "version": "3.9.12"
  }
 },
 "nbformat": 4,
 "nbformat_minor": 5
}
