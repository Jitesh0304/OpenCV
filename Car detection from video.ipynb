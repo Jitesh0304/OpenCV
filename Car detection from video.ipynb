{
 "cells": [
  {
   "cell_type": "code",
   "execution_count": 1,
   "id": "2017b0ab",
   "metadata": {},
   "outputs": [],
   "source": [
    "import numpy as np\n",
    "import cv2\n",
    "import time"
   ]
  },
  {
   "cell_type": "code",
   "execution_count": 2,
   "id": "de620f18",
   "metadata": {},
   "outputs": [],
   "source": [
    "## use the car HAAR_CASCADE.xml file to detect the car \n",
    "car_classifier = cv2.CascadeClassifier('haarcascade_car.xml')\n",
    "\n",
    "## give input a video \n",
    "capture = cv2.VideoCapture('car1.mp4')"
   ]
  },
  {
   "cell_type": "code",
   "execution_count": 3,
   "id": "cde8fbd5",
   "metadata": {},
   "outputs": [],
   "source": [
    "## open the video\n",
    "while capture.isOpened():\n",
    "    \n",
    "    ## it is the delay time of running\n",
    "    time.sleep(0.05)\n",
    "    \n",
    "    ## read the video and store the data in two variables\n",
    "    ret, frame = capture.read()\n",
    "    \n",
    "    ## convert the frame into gray color because the color image takes too much time\n",
    "    gray = cv2.cvtColor(frame , cv2.COLOR_BGR2GRAY)\n",
    "    \n",
    "    ## detect all cars using multiscale\n",
    "    cars = car_classifier.detectMultiScale(gray, 1.4 , 2)\n",
    "    \n",
    "    \n",
    "    for (x,y,w,h) in cars:\n",
    "        cv2.rectangle(frame ,(x , y), (x+w , y+h), (255,0,0), 3)\n",
    "        cv2.imshow('car',frame)\n",
    "        \n",
    "    if cv2.waitKey(1) == 13:\n",
    "        break\n",
    "        \n",
    "capture.release()\n",
    "cv2.destroyAllWindows()"
   ]
  },
  {
   "cell_type": "code",
   "execution_count": 4,
   "id": "0fc27094",
   "metadata": {},
   "outputs": [
    {
     "data": {
      "text/plain": [
       "True"
      ]
     },
     "execution_count": 4,
     "metadata": {},
     "output_type": "execute_result"
    }
   ],
   "source": [
    "ret"
   ]
  },
  {
   "cell_type": "code",
   "execution_count": 5,
   "id": "ba7ecdd8",
   "metadata": {},
   "outputs": [
    {
     "data": {
      "text/plain": [
       "array([[[ 50,  46,  42],\n",
       "        [ 49,  45,  41],\n",
       "        [ 51,  47,  43],\n",
       "        ...,\n",
       "        [ 32,  27,  33],\n",
       "        [ 39,  34,  40],\n",
       "        [ 40,  35,  41]],\n",
       "\n",
       "       [[ 55,  51,  47],\n",
       "        [ 52,  48,  44],\n",
       "        [ 52,  48,  44],\n",
       "        ...,\n",
       "        [ 29,  24,  30],\n",
       "        [ 35,  30,  36],\n",
       "        [ 39,  34,  40]],\n",
       "\n",
       "       [[ 54,  50,  46],\n",
       "        [ 52,  48,  44],\n",
       "        [ 52,  48,  44],\n",
       "        ...,\n",
       "        [ 28,  23,  29],\n",
       "        [ 35,  30,  36],\n",
       "        [ 41,  36,  42]],\n",
       "\n",
       "       ...,\n",
       "\n",
       "       [[ 29,  25,  28],\n",
       "        [ 29,  25,  28],\n",
       "        [ 31,  27,  30],\n",
       "        ...,\n",
       "        [ 58,  78,  98],\n",
       "        [ 61,  81, 101],\n",
       "        [ 61,  81, 101]],\n",
       "\n",
       "       [[ 33,  29,  32],\n",
       "        [ 33,  29,  32],\n",
       "        [ 41,  37,  40],\n",
       "        ...,\n",
       "        [ 64,  84, 104],\n",
       "        [ 68,  88, 108],\n",
       "        [ 68,  88, 108]],\n",
       "\n",
       "       [[ 42,  38,  41],\n",
       "        [ 33,  29,  32],\n",
       "        [ 46,  42,  45],\n",
       "        ...,\n",
       "        [ 78,  98, 118],\n",
       "        [ 80, 100, 120],\n",
       "        [ 80, 100, 120]]], dtype=uint8)"
      ]
     },
     "execution_count": 5,
     "metadata": {},
     "output_type": "execute_result"
    }
   ],
   "source": [
    "frame"
   ]
  },
  {
   "cell_type": "code",
   "execution_count": null,
   "id": "5810dd47",
   "metadata": {},
   "outputs": [],
   "source": []
  }
 ],
 "metadata": {
  "kernelspec": {
   "display_name": "Python 3 (ipykernel)",
   "language": "python",
   "name": "python3"
  },
  "language_info": {
   "codemirror_mode": {
    "name": "ipython",
    "version": 3
   },
   "file_extension": ".py",
   "mimetype": "text/x-python",
   "name": "python",
   "nbconvert_exporter": "python",
   "pygments_lexer": "ipython3",
   "version": "3.9.12"
  }
 },
 "nbformat": 4,
 "nbformat_minor": 5
}
