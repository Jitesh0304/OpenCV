{
 "cells": [
  {
   "cell_type": "markdown",
   "id": "2b27e75b",
   "metadata": {},
   "source": [
    "# Face Detection using HAAR Cascade Classifiers"
   ]
  },
  {
   "cell_type": "markdown",
   "id": "f420a45f",
   "metadata": {},
   "source": [
    "# 1"
   ]
  },
  {
   "cell_type": "code",
   "execution_count": 1,
   "id": "95dcbc88",
   "metadata": {},
   "outputs": [],
   "source": [
    "# import the required libraries\n",
    "\n",
    "import numpy as np\n",
    "import cv2"
   ]
  },
  {
   "cell_type": "code",
   "execution_count": 2,
   "id": "7524f55d",
   "metadata": {},
   "outputs": [],
   "source": [
    "face_classifier = cv2.CascadeClassifier(\"haarcascade_frontalface_default.xml\")"
   ]
  },
  {
   "cell_type": "code",
   "execution_count": 3,
   "id": "c100bc77",
   "metadata": {},
   "outputs": [
    {
     "data": {
      "text/plain": [
       "< cv2.CascadeClassifier 00000196402753F0>"
      ]
     },
     "execution_count": 3,
     "metadata": {},
     "output_type": "execute_result"
    }
   ],
   "source": [
    "face_classifier"
   ]
  },
  {
   "cell_type": "code",
   "execution_count": 23,
   "id": "92637906",
   "metadata": {},
   "outputs": [
    {
     "name": "stderr",
     "output_type": "stream",
     "text": [
      "<>:10: SyntaxWarning: \"is\" with a literal. Did you mean \"==\"?\n",
      "<>:10: SyntaxWarning: \"is\" with a literal. Did you mean \"==\"?\n",
      "C:\\Users\\HP\\AppData\\Local\\Temp\\ipykernel_9092\\2830780567.py:10: SyntaxWarning: \"is\" with a literal. Did you mean \"==\"?\n",
      "  if faces is ():\n"
     ]
    }
   ],
   "source": [
    "## convert the image to gray color\n",
    "\n",
    "image = cv2.imread('Group.jpg')\n",
    "gray = cv2.cvtColor(image, cv2.COLOR_BGR2GRAY)\n",
    "\n",
    "## use the classifier to detect the face\n",
    "faces = face_classifier.detectMultiScale(gray, 1.3, 5)\n",
    "\n",
    "## after this if the model not able to detect the face , then we should returnn an empty tuple\n",
    "if faces is ():\n",
    "    print(\"No face found\")\n",
    "    \n",
    "    \n",
    "\n",
    "for (x,y,w,h) in faces:                                               \n",
    "    cv2.rectangle(image, (x,y), (x+w , y+h), (127,0,255), 2)     \n",
    "    cv2.imshow('Face Detection', image)                           \n",
    "    cv2.waitKey()                                             \n",
    "                                                        \n",
    "cv2.destroyAllWindows()        "
   ]
  },
  {
   "attachments": {
    "Untitled1.png": {
     "image/png": "[encoded data removed]"
    }
   },
   "cell_type": "markdown",
   "id": "f53932e9",
   "metadata": {},
   "source": [
    "![Untitled1.png](attachment:Untitled1.png)"
   ]
  },
  {
   "cell_type": "code",
   "execution_count": 5,
   "id": "e44ca37b",
   "metadata": {},
   "outputs": [
    {
     "data": {
      "text/plain": [
       "array([[ 86,  45, 130, 130]])"
      ]
     },
     "execution_count": 5,
     "metadata": {},
     "output_type": "execute_result"
    }
   ],
   "source": [
    "faces"
   ]
  },
  {
   "cell_type": "markdown",
   "id": "9ea89488",
   "metadata": {},
   "source": [
    "# Face & Eyes Detection using HAAR Cascade Classifiers"
   ]
  },
  {
   "cell_type": "markdown",
   "id": "25a3e12b",
   "metadata": {},
   "source": [
    "# 2"
   ]
  },
  {
   "cell_type": "code",
   "execution_count": 8,
   "id": "06b8e64d",
   "metadata": {},
   "outputs": [],
   "source": [
    "face_classifier2 = cv2.CascadeClassifier(\"haarcascade_frontalface_default.xml\")\n",
    "eye_classifier2 = cv2.CascadeClassifier('haarcascade_eye.xml')"
   ]
  },
  {
   "cell_type": "code",
   "execution_count": 24,
   "id": "63b2d198",
   "metadata": {},
   "outputs": [
    {
     "name": "stderr",
     "output_type": "stream",
     "text": [
      "C:\\Users\\HP\\AppData\\Local\\Temp\\ipykernel_9092\\597862349.py:6: DeprecationWarning: elementwise comparison failed; this will raise an error in the future.\n",
      "  if faces2 == ():\n"
     ]
    }
   ],
   "source": [
    "image2 = cv2.imread('APJ_Abdul_Kalam.jpg')\n",
    "gray2 = cv2.cvtColor(image2, cv2.COLOR_BGR2GRAY)\n",
    "\n",
    "faces2 = face_classifier2.detectMultiScale(gray2, 1.3, 5)\n",
    "\n",
    "if faces2 == ():\n",
    "    print('no face found')\n",
    "    \n",
    "for (x,y,w,h) in faces2:\n",
    "    cv2.rectangle(image2, (x, y), (x+w , y+h), (127,0,255), 2)\n",
    "    cv2.imshow('Face', image2)\n",
    "    cv2.waitKey(0)\n",
    "   \n",
    "\n",
    "## The below processes are to detect eyes\n",
    "    roi_gray = gray2[y:y+h , x:x+w] \n",
    "    roi_color = image2[y:y+h , x:x+w]\n",
    "    \n",
    "    eyes = eye_classifier2.detectMultiScale(roi_gray)\n",
    "    \n",
    "    \n",
    "    for (ex,ey,ew,eh) in eyes:\n",
    "        cv2.rectangle(image2, (ex, ey), (ex+ew , ey+eh), (255,255,0), 2)\n",
    "        cv2.imshow('eye', image2)\n",
    "        cv2.waitKey(0)\n",
    "        \n",
    "cv2.destroyAllWindows()"
   ]
  },
  {
   "cell_type": "code",
   "execution_count": 25,
   "id": "5f029a57",
   "metadata": {},
   "outputs": [
    {
     "data": {
      "text/plain": [
       "array([[152, 117, 275, 275]])"
      ]
     },
     "execution_count": 25,
     "metadata": {},
     "output_type": "execute_result"
    }
   ],
   "source": [
    "faces2"
   ]
  },
  {
   "cell_type": "code",
   "execution_count": 26,
   "id": "90d1c8fe",
   "metadata": {},
   "outputs": [
    {
     "data": {
      "text/plain": [
       "array([[174,  80,  45,  45],\n",
       "       [ 38,  53,  90,  90],\n",
       "       [148,  60,  86,  86]])"
      ]
     },
     "execution_count": 26,
     "metadata": {},
     "output_type": "execute_result"
    }
   ],
   "source": [
    "eyes"
   ]
  },
  {
   "cell_type": "code",
   "execution_count": null,
   "id": "e8536117",
   "metadata": {},
   "outputs": [],
   "source": []
  }
 ],
 "metadata": {
  "kernelspec": {
   "display_name": "Python 3 (ipykernel)",
   "language": "python",
   "name": "python3"
  },
  "language_info": {
   "codemirror_mode": {
    "name": "ipython",
    "version": 3
   },
   "file_extension": ".py",
   "mimetype": "text/x-python",
   "name": "python",
   "nbconvert_exporter": "python",
   "pygments_lexer": "ipython3",
   "version": "3.9.13"
  }
 },
 "nbformat": 4,
 "nbformat_minor": 5
}
